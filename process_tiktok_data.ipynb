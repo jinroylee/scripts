{
 "cells": [
  {
   "cell_type": "code",
   "execution_count": 2,
   "metadata": {},
   "outputs": [],
   "source": [
    "#!/usr/bin/env python\n",
    "\"\"\"\n",
    "Simple script to read and display TikTok data from parquet files.\n",
    "\"\"\"\n",
    "\n",
    "import pandas as pd\n",
    "from pathlib import Path\n",
    "import os\n",
    "import sys"
   ]
  },
  {
   "cell_type": "code",
   "execution_count": 4,
   "metadata": {},
   "outputs": [
    {
     "name": "stdout",
     "output_type": "stream",
     "text": [
      "Reading tiktok_data/beauty_tiktok_2025-04-28.parquet\n"
     ]
    }
   ],
   "source": [
    "OUT_DIR = Path(\"tiktok_data\")\n",
    "\n",
    "parquet_files = list(OUT_DIR.glob(\"*.parquet\"))\n",
    "\n",
    "if not parquet_files:\n",
    "    print(\"No parquet files found in\", OUT_DIR)\n",
    "    exit()\n",
    "\n",
    "# Sort by modification time (newest first)\n",
    "parquet_files = sorted(parquet_files, key=os.path.getmtime, reverse=True)\n",
    "\n",
    "# Allow selecting a specific file from command line\n",
    "if len(sys.argv) > 1 and sys.argv[1].endswith('.parquet'):\n",
    "    target_file = Path(sys.argv[1])\n",
    "    if target_file in parquet_files:\n",
    "        selected_file = target_file\n",
    "    else:\n",
    "        print(f\"File {sys.argv[1]} not found. Using most recent file instead.\")\n",
    "        selected_file = parquet_files[0]\n",
    "else:\n",
    "    # Use the most recent file by default\n",
    "    selected_file = parquet_files[0]\n",
    "\n",
    "print(f\"Reading {selected_file}\")\n",
    "\n",
    "# Load the data\n",
    "df = pd.read_parquet(selected_file)"
   ]
  },
  {
   "cell_type": "code",
   "execution_count": 6,
   "metadata": {},
   "outputs": [
    {
     "data": {
      "text/plain": [
       "0    Taylor 🌸🌊 Peach sun, salt air, and a smile tha...\n",
       "Name: description, dtype: object"
      ]
     },
     "execution_count": 6,
     "metadata": {},
     "output_type": "execute_result"
    }
   ],
   "source": [
    "df['description']"
   ]
  },
  {
   "cell_type": "code",
   "execution_count": null,
   "metadata": {},
   "outputs": [],
   "source": []
  }
 ],
 "metadata": {
  "kernelspec": {
   "display_name": ".venv",
   "language": "python",
   "name": "python3"
  },
  "language_info": {
   "codemirror_mode": {
    "name": "ipython",
    "version": 3
   },
   "file_extension": ".py",
   "mimetype": "text/x-python",
   "name": "python",
   "nbconvert_exporter": "python",
   "pygments_lexer": "ipython3",
   "version": "3.13.2"
  }
 },
 "nbformat": 4,
 "nbformat_minor": 2
}
